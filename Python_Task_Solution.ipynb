{
  "cells": [
    {
      "cell_type": "markdown",
      "metadata": {
        "id": "nx8u9MLl3-U2"
      },
      "source": [
        "Upload a picture of yourself, convert it to grayscale. Convert the grayscale image to a numpy array. This numpy array corresponds to the marks of students of your class\n",
        "\n",
        "Write a class which takes the numpy array generated above as an input. The class must have the following variables:\n",
        "1. **number_of_students** (int)\n",
        "2. **name_of_teacher** (Your name) (str)\n",
        "3. **data** - stores the input numpy array (1-d numpy array)\n",
        "4. **stats** - A dictionary of statistics that you will be calculating from the input. (dictionary)\n",
        "5. **summary** - (list)\n",
        "\n",
        "The class must have the following functions:\n",
        "1. **__init__** - It normalises the input array and scales it to 100, and stores it in the variable 'data'. It also sets the variable 'name_of_teacher'. The init function calls the functions 'set_num_students' , 'statistics_calculator'. Therefore after __init__all variables other than 'summary' are set.\n",
        "\n",
        "2. **set_num_students** - sets the variable 'number_of_students' \n",
        "\n",
        "3. **statistics_calculator** - calculates the mean, median, maximum, minimum, standard deviation of the marks and stores it in the form of a dictionary in the variable 'stats'\n",
        "\n",
        "4. **organiser** - organises the data in a list in the form [name_of_teacher , number_of_students , stats], stores it in the variable 'summary' and prints it when called.\n",
        "\n"
      ]
    },
    {
      "cell_type": "markdown",
      "source": [
        "The below cell imports PIL for image manipulation and numpy as np.\n",
        "So if you now want to use any function of numpy, say the `numpy.shape()` function, you can now use `np.shape()` instead!"
      ],
      "metadata": {
        "id": "9ZpiJWoZUxPW"
      }
    },
    {
      "cell_type": "code",
      "source": [
        "from PIL import Image, ImageOps #importing PIL Library for image manipulation\n",
        "import numpy as np"
      ],
      "metadata": {
        "id": "HykVFJn7Pblf"
      },
      "execution_count": null,
      "outputs": []
    },
    {
      "cell_type": "markdown",
      "source": [
        "The next code block uses a PIL function named Image to open the file, as in import it to colab, and then converts it to grayscale using the ImageOps.grayscale function."
      ],
      "metadata": {
        "id": "e2LqC8WiUwMQ"
      }
    },
    {
      "cell_type": "code",
      "source": [
        "img = Image.open(\"img.JPG\") #opening an image\n",
        "img_gray = ImageOps.grayscale(img) #converting it into grayscale"
      ],
      "metadata": {
        "id": "TcFoGEMjPwIE"
      },
      "execution_count": null,
      "outputs": []
    },
    {
      "cell_type": "code",
      "source": [
        "img #printing img"
      ],
      "metadata": {
        "id": "f97EqghFVfKc"
      },
      "execution_count": null,
      "outputs": []
    },
    {
      "cell_type": "code",
      "source": [
        "img_gray #printing grayscaled image"
      ],
      "metadata": {
        "id": "8BpNVBPcVgfz"
      },
      "execution_count": null,
      "outputs": []
    },
    {
      "cell_type": "markdown",
      "source": [
        "As you can see the above cells show you what img and img_gray look like"
      ],
      "metadata": {
        "id": "ZEJXRtnDWBqY"
      }
    },
    {
      "cell_type": "code",
      "source": [
        "img_as_array = np.asarray(img_gray) #storing the pixel values as a numpy array"
      ],
      "metadata": {
        "id": "lb8aGqCpP2gp"
      },
      "execution_count": null,
      "outputs": []
    },
    {
      "cell_type": "markdown",
      "source": [
        "The above cell converts the image to a numpy array. The next cell prints its shape."
      ],
      "metadata": {
        "id": "3tyNtusOWHwL"
      }
    },
    {
      "cell_type": "code",
      "source": [
        "img_as_array.shape #printing the shape of the array"
      ],
      "metadata": {
        "id": "INf_qkj5P4us"
      },
      "execution_count": null,
      "outputs": []
    },
    {
      "cell_type": "code",
      "source": [
        "data = img_as_array.flatten() #converting it into a 1D array"
      ],
      "metadata": {
        "id": "FN39u0dQWZKn"
      },
      "execution_count": null,
      "outputs": []
    },
    {
      "cell_type": "code",
      "source": [
        "data.shape #printing the shape of the array"
      ],
      "metadata": {
        "id": "42-qL8f_XSUP"
      },
      "execution_count": null,
      "outputs": []
    },
    {
      "cell_type": "markdown",
      "source": [
        "Now use `data` for the given tasks!"
      ],
      "metadata": {
        "id": "YiCVGLe_XwSg"
      }
    },
    {
      "cell_type": "code",
      "source": [
        "class Statistic_Data:\n",
        "  \n",
        "  def __init__(self, array):\n",
        "\n",
        "    self.data = array\n",
        "\n",
        "    #Normalizing the 1-D array in the range (0,100)\n",
        "    min,max = np.min(self.data), np.max(self.data)\n",
        "    n_arr = []\n",
        "    for i in array:\n",
        "       temp = ((i-min)/(max-min))*100\n",
        "       n_arr.append(temp)\n",
        "\n",
        "    self.data=n_arr\n",
        "    \n",
        "    #initializing the variables\n",
        "    self.number_of_students = 0\n",
        "    self.name_of_teacher = \"Rishi Agarwal\"\n",
        "    self.stats={}\n",
        "    self.summary=[]\n",
        "\n",
        "    self.set_num_students()\n",
        "    self.statistics_calculator()\n",
        "\n",
        "  def set_num_students(self):\n",
        "    self.number_of_students = len(self.data)\n",
        "\n",
        "  def statistics_calculator(self):\n",
        "    self.stats['Mean'] = np.mean(self.data)\n",
        "    self.stats['Median'] = np.median(self.data)\n",
        "    self.stats['Maximum'] = np.max(self.data)\n",
        "    self.stats['Minimum'] = np.min(self.data)\n",
        "    self.stats['Standard deviation'] = np.std(self.data)\n",
        "\n",
        "  def organiser(self):\n",
        "    self.summary = [self.name_of_teacher, self.number_of_students, self.stats]\n",
        "    print(self.summary, sep='\\n')\n",
        "\n",
        "\n",
        "test=Statistic_Data(data)\n",
        "test.organiser()\n"
      ],
      "metadata": {
        "id": "IOTo-FcQXedf"
      },
      "execution_count": null,
      "outputs": []
    }
  ],
  "metadata": {
    "colab": {
      "provenance": []
    },
    "kernelspec": {
      "display_name": "Python 3",
      "name": "python3"
    },
    "language_info": {
      "name": "python"
    }
  },
  "nbformat": 4,
  "nbformat_minor": 0
}